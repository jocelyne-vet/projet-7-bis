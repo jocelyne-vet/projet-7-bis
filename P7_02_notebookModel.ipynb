{
 "cells": [
  {
   "cell_type": "markdown",
   "metadata": {},
   "source": []
  },
  {
   "cell_type": "markdown",
   "metadata": {},
   "source": [
    "# Introduction: Home Credit Default Risk Competition\n",
    "\n",
    "# Data\n",
    "\n",
    "Les données sont fournies par Home Credit [Home Credit](http://www.homecredit.net/about-us.aspx), un service dédié à l'octroi de lignes de crédit (prêts) à la population non bancarisée. L'objectif est de prédire si le client remboursera un prêt ou aura des difficultés est un besoin commercial critique,\n",
    "\n",
    "\n",
    "\n",
    "\n",
    "![image](https://storage.googleapis.com/kaggle-media/competitions/home-credit/home_credit.png)\n"
   ]
  },
  {
   "cell_type": "markdown",
   "metadata": {},
   "source": [
    "application_{train|test}.csv\n",
    "\n",
    "\n",
    "    Il s'agit de la table principale, divisée en deux fichiers pour Train (avec TARGET) et Test (sans TARGET).\n",
    "    Données statiques pour toutes les applications. Une ligne représente un prêt dans notre échantillon de données.\n",
    "\n",
    "bureau.csv\n",
    "\n",
    "    Tous les crédits antérieurs des clients fournis par d'autres institutions financières qui ont été signalés au bureau de crédit (pour les clients qui ont un prêt dans notre échantillon).\n",
    "    Pour chaque prêt de notre échantillon, il y a autant de lignes que le nombre de crédits que le client avait dans le bureau de crédit avant la date de la demande.\n",
    "    \n",
    "bureau_balance.csv\n",
    "\n",
    "    Soldes mensuels des crédits précédents dans Credit Bureau.\n",
    "    Ce tableau a une ligne pour chaque mois d'historique de chaque crédit précédent signalé au bureau de crédit - c'est-à-dire que le tableau a (#prêts dans l'échantillon * # de crédits précédents relatifs * # de mois où nous avons un historique observable pour les crédits précédents) lignes .\n",
    "\n",
    "\n",
    "POS_CASH_balance.csv\n",
    "\n",
    "    Instantanés du solde mensuel des précédents POS (points de vente) et des prêts en espèces que le demandeur avait avec Home Credit.\n",
    "    Ce tableau a une ligne pour chaque mois d'historique de chaque crédit précédent dans Home Credit (crédit à la consommation et prêts de trésorerie) lié aux prêts de notre échantillon - c'est-à-dire que le tableau a (#prêts dans l'échantillon * # de crédits précédents relatifs * # de mois dans laquelle nous avons un historique observable pour les crédits précédents).\n",
    "\n",
    "credit_card_balance.csv\n",
    "\n",
    "    Instantanés du solde mensuel des cartes de crédit précédentes que le demandeur a avec Home Credit.\n",
    "    Ce tableau a une ligne pour chaque mois d'historique de chaque crédit précédent dans Home Credit (crédit à la consommation et prêts de trésorerie) lié aux prêts de notre échantillon - c'est-à-dire que le tableau a (#prêts dans l'échantillon * # de cartes de crédit précédentes relatives * # de mois où nous avons un historique observable pour les lignes de carte de crédit précédentes).\n",
    "\n",
    "\n",
    "previous_application.csv\n",
    "\n",
    "    Toutes les demandes précédentes de crédit immobilier des clients ayant des crédits dans notre échantillon.\n",
    "    Il y a une ligne pour chaque demande précédente liée aux prêts dans notre échantillon de données.\n",
    "    \n",
    "installments_payments.csv\n",
    "\n",
    "    Historique de remboursement des crédits précédemment décaissés en Crédit Logement relatifs aux crédits de notre échantillon.\n",
    "    Il y a a) une ligne pour chaque paiement effectué plus b) une ligne pour chaque paiement manqué.\n",
    "    Une ligne équivaut à un versement d'une échéance OU une échéance correspondant à un versement d'un précédent crédit Home Credit lié aux crédits de notre échantillon.\n"
   ]
  },
  {
   "cell_type": "markdown",
   "metadata": {},
   "source": [
    "https://www.kaggle.com/ganeshn88/home-credit-model"
   ]
  },
  {
   "cell_type": "markdown",
   "metadata": {},
   "source": [
    "# Chargement des bibliothèques\n"
   ]
  },
  {
   "cell_type": "code",
   "execution_count": 1,
   "metadata": {
    "_cell_guid": "79c7e3d0-c299-4dcb-8224-4455121ee9b0",
    "_uuid": "d629ff2d2480ee46fbb7e2d37f6b5fab8052498a"
   },
   "outputs": [],
   "source": [
    "#numpy and pandas for data manipulation\n",
    "import numpy as np\n",
    "import pandas as pd \n",
    "\n",
    "from collections import Counter\n",
    "\n",
    "# sklearn preprocessing for dealing with categorical variables\n",
    "from sklearn.preprocessing import LabelEncoder\n",
    "\n",
    "# File system manangement\n",
    "import os\n",
    "\n",
    "# Suppress warnings \n",
    "import warnings\n",
    "warnings.filterwarnings('ignore')\n",
    "\n",
    "# matplotlib and seaborn for plotting\n",
    "import matplotlib.pyplot as plt\n",
    "import seaborn as sns\n",
    "\n",
    "#Data Preprocessing\n",
    "from sklearn.model_selection import train_test_split\n",
    "from sklearn.impute import SimpleImputer\n",
    "from sklearn.preprocessing import MinMaxScaler\n",
    "\n",
    "#Model building\n",
    "from sklearn.linear_model import LogisticRegression\n",
    "from sklearn.model_selection import GridSearchCV,RandomizedSearchCV\n",
    "# import xgboost as xgb\n",
    "# from xgboost.sklearn import XGBClassifier\n",
    "# import lightgbm as lgb\n",
    "\n",
    "#Model Evaluation\n",
    "\n",
    "from sklearn.metrics import roc_auc_score\n",
    "\n",
    "#Saving Models\n",
    "#from sklearn.externals import joblib"
   ]
  },
  {
   "cell_type": "code",
   "execution_count": 2,
   "metadata": {},
   "outputs": [
    {
     "name": "stdout",
     "output_type": "stream",
     "text": [
      "['application_test.csv', 'application_train.csv', 'bureau.csv', 'bureau_balance.csv', 'credit_card_balance.csv', 'HomeCredit_columns_description.csv', 'installments_payments.csv', 'POS_CASH_balance.csv', 'previous_application.csv', 'sample_submission.csv']\n"
     ]
    }
   ],
   "source": [
    "# List files available\n",
    "print(os.listdir(\"../notebook python/projet 7/csv/\"))"
   ]
  },
  {
   "cell_type": "markdown",
   "metadata": {},
   "source": [
    "# Présentation des différentes fonctions"
   ]
  },
  {
   "cell_type": "markdown",
   "metadata": {},
   "source": [
    "# Réduction de l'utilisation de la mémoire"
   ]
  },
  {
   "cell_type": "code",
   "execution_count": 3,
   "metadata": {},
   "outputs": [],
   "source": [
    "def reduce_mem_usage(df):\n",
    "    \"\"\" iterate through all the columns of a dataframe and modify the data type\n",
    "        to reduce memory usage.        \n",
    "    \"\"\"\n",
    "    start_mem = df.memory_usage().sum() / 1024**2\n",
    "    print('Memory usage of dataframe is {: .2f} MB'.format(start_mem))\n",
    "    \n",
    "    for col in df.columns:\n",
    "        col_type = df[col].dtype\n",
    "        \n",
    "        if col_type != object:\n",
    "            c_min = df[col].min()\n",
    "            c_max = df[col].max()\n",
    "            if str(col_type)[:3] == 'int':\n",
    "                if c_min > np.iinfo(np.int8).min and c_max < np.iinfo(np.int8).max:\n",
    "                    df[col] = df[col].astype(np.int8)\n",
    "                elif c_min > np.iinfo(np.int16).min and c_max < np.iinfo(np.int16).max:\n",
    "                    df[col] = df[col].astype(np.int16)\n",
    "                elif c_min > np.iinfo(np.int32).min and c_max < np.iinfo(np.int32).max:\n",
    "                    df[col] = df[col].astype(np.int32)\n",
    "                elif c_min > np.iinfo(np.int64).min and c_max < np.iinfo(np.int64).max:\n",
    "                    df[col] = df[col].astype(np.int64)  \n",
    "            else:\n",
    "                if c_min > np.finfo(np.float16).min and c_max < np.finfo(np.float16).max:\n",
    "                    df[col] = df[col].astype(np.float16)\n",
    "                elif c_min > np.finfo(np.float32).min and c_max < np.finfo(np.float32).max:\n",
    "                    df[col] = df[col].astype(np.float32)\n",
    "                else:\n",
    "                    df[col] = df[col].astype(np.float64)\n",
    "        else:\n",
    "            df[col] = df[col].astype('category')\n",
    "\n",
    "    end_mem = df.memory_usage().sum() / 1024**2\n",
    "    print('Memory usage after optimization is: {:.2f} MB'.format(end_mem))\n",
    "    print('Decreased by {:.1f}%'.format(100 * (start_mem - end_mem) / start_mem))\n",
    "    \n",
    "    return df\n",
    "\n",
    "\n",
    "def import_data(file):\n",
    "    \"\"\"create a dataframe and optimize its memory usage\"\"\"\n",
    "    df = pd.read_csv(file, parse_dates=True, keep_date_col=True)\n",
    "    df = reduce_mem_usage(df)\n",
    "    return df"
   ]
  },
  {
   "cell_type": "markdown",
   "metadata": {},
   "source": [
    "# Importation des données"
   ]
  },
  {
   "cell_type": "code",
   "execution_count": 4,
   "metadata": {},
   "outputs": [],
   "source": [
    "def importdata():    \n",
    "    print('-' * 80)\n",
    "    print('train')\n",
    "    train = import_data('../notebook python/projet 7/csv/application_train.csv')\n",
    "\n",
    "    print('-' * 80)\n",
    "    print('test')\n",
    "    test = import_data('../notebook python/projet 7/csv/application_test.csv')\n",
    "\n",
    "    print('-' * 80)\n",
    "    print('bureau_balance')\n",
    "    bureau_balance = import_data('../notebook python/projet 7/csv/bureau_balance.csv')\n",
    "\n",
    "    print('-' * 80)\n",
    "    print('bureau')\n",
    "    bureau = import_data('../notebook python/projet 7//csv/bureau.csv')\n",
    "\n",
    "    print('-' * 80)\n",
    "    print('credit_card_balance')\n",
    "    credit_card = import_data('../notebook python/projet 7/csv/credit_card_balance.csv')\n",
    "\n",
    "    print('-' * 80)\n",
    "    print('installments_payments')\n",
    "    installments = import_data('../notebook python/projet 7/csv/installments_payments.csv')\n",
    "\n",
    "    print('-' * 80)\n",
    "    print('pos_cash_balance')\n",
    "    pos_cash = import_data('../notebook python/projet 7/csv/POS_CASH_balance.csv')\n",
    "\n",
    "    print('-' * 80)\n",
    "    print('previous_application')\n",
    "    previous_app = import_data('../notebook python/projet 7/csv/previous_application.csv')\n",
    "    return train, test, bureau_balance, bureau, credit_card, installments, pos_cash, previous_app"
   ]
  },
  {
   "cell_type": "markdown",
   "metadata": {},
   "source": [
    "# Traitement des données catégorielles"
   ]
  },
  {
   "cell_type": "markdown",
   "metadata": {},
   "source": [
    "## Label Encoding (encodage d'étiquettes)"
   ]
  },
  {
   "cell_type": "code",
   "execution_count": 5,
   "metadata": {},
   "outputs": [],
   "source": [
    "\n",
    "def one_hot_code(app_train, app_test):\n",
    "    \n",
    "    app_train = pd.get_dummies(app_train)\n",
    "    app_test = pd.get_dummies(app_test)\n",
    "    \n",
    "    train_labels = app_train['TARGET']\n",
    "    print('Aligning Train and Test Data')\n",
    "    app_train, app_test = app_train.align(app_test, join = 'inner', axis = 1)\n",
    "    \n",
    "\n",
    "    print('Training Features shape: ', app_train.shape)\n",
    "    print('Testing Features shape: ', app_test.shape)\n",
    "    \n",
    "    return app_train, app_test, train_labels\n",
    "    "
   ]
  },
  {
   "cell_type": "markdown",
   "metadata": {},
   "source": [
    "# Scaling Data (mise à l'échelle des données)"
   ]
  },
  {
   "cell_type": "code",
   "execution_count": 6,
   "metadata": {},
   "outputs": [],
   "source": [
    "def scale_data(traindata, testdata):\n",
    "   \n",
    "    imputer = SimpleImputer(strategy = 'median')\n",
    "\n",
    "    # Scale each feature to 0-1\n",
    "    scaler = MinMaxScaler(feature_range = (0, 1))\n",
    "\n",
    "    train = traindata.copy()\n",
    "    test = testdata.copy()\n",
    "\n",
    "    imputer.fit(train)\n",
    "    train = imputer.transform(train)\n",
    "    test = imputer.transform(test)\n",
    "\n",
    "    scaler.fit(train)\n",
    "    train = scaler.transform(train)\n",
    "    test = scaler.transform(test)\n",
    "\n",
    "    print('Training data shape: ', train.shape)\n",
    "    print('Testing data shape: ', test.shape)\n",
    "\n",
    "    return train,test\n"
   ]
  },
  {
   "cell_type": "markdown",
   "metadata": {},
   "source": [
    "# Feature Engineering"
   ]
  },
  {
   "cell_type": "code",
   "execution_count": 7,
   "metadata": {},
   "outputs": [],
   "source": [
    "def featureengineering(df):\n",
    "        \n",
    "    # Optional: Remove 4 applications with XNA CODE_GENDER (train set)\n",
    "    df = df[df['CODE_GENDER'] != 'XNA']\n",
    "    \n",
    "    df['DAYS_EMPLOYED'].replace({365243: np.nan}, inplace = True)\n",
    "    \n",
    "    docs = [_f for _f in df.columns if 'FLAG_DOC' in _f]\n",
    "    live = [_f for _f in df.columns if ('FLAG_' in _f) & ('FLAG_DOC' not in _f)]\n",
    "\n",
    "    df['NEW_DOC_IND_AVG'] = df[docs].mean(axis=1)\n",
    "    df['NEW_DOC_IND_STD'] = df[docs].std(axis=1)\n",
    "    df['NEW_DOC_IND_KURT'] = df[docs].kurtosis(axis=1)\n",
    "\n",
    "    df['NEW_LIVE_IND_SUM'] = df[live].sum(axis=1)\n",
    "    df['NEW_LIVE_IND_STD'] = df[live].std(axis=1)\n",
    "    df['NEW_LIVE_IND_KURT'] = df[live].kurtosis(axis=1)\n",
    "\n",
    "    df['NEW_CREDIT_TO_INCOME_RATIO'] = df['AMT_CREDIT'] / df['AMT_INCOME_TOTAL'] # ratio montant du crédit du prêt /revenu du client\n",
    "    df['NEW_CREDIT_TO_ANNUITY_RATIO'] = df['AMT_CREDIT'] / df['AMT_ANNUITY'] # ratio montant du crédit du prêt / rente de prêt (annuité)\n",
    "    df['NEW_CREDIT_TO_GOODS_RATIO'] = df['AMT_CREDIT'] / df['AMT_GOODS_PRICE'] # ratio montant du crédit du prêt/ prix des biens pour lesquels le crédit est accordé\n",
    "    df['NEW_ANNUITY_TO_INCOME_RATIO'] = df['AMT_ANNUITY'] / df['AMT_INCOME_TOTAL'] # ratio rente de prêt(annuité) /revenu du client\n",
    "    df['NEW_ANNUITY_TO_CREDIT_RATIO'] = df['AMT_ANNUITY'] / df['AMT_CREDIT'] # ratio rente de prêt (annuité) / montant du crédit du prêt\n",
    "    df['NEW_INCOME_TO_CREDIT_RATIO'] = df['AMT_INCOME_TOTAL'] / df['AMT_CREDIT'] # ratio revenu du client/ montant du crédit du prêt\n",
    "    df['NEW_INCOME_PER_PERSON'] = df['AMT_INCOME_TOTAL'] / df['CNT_FAM_MEMBERS'] # ratio revenu du client / nb de personnes de la famille du client\n",
    "    df['NEW_DAYS_EMPLOY_AGE_RATIO'] = df['DAYS_EMPLOYED'] / df['DAYS_BIRTH'] # ratio combien de jours avant la demande le client a commencé son emploi actuel / combien de jours avant la demande le client est-il né \n",
    "    df['NEW_SOURCES_PROD'] = df['EXT_SOURCE_1'] * df['EXT_SOURCE_2'] * df['EXT_SOURCE_3']\n",
    "    df['NEW_EXT_SOURCES_MEAN'] = df[['EXT_SOURCE_1', 'EXT_SOURCE_2', 'EXT_SOURCE_3']].mean(axis=1)\n",
    "    df['NEW_SCORES_STD'] = df[['EXT_SOURCE_1', 'EXT_SOURCE_2', 'EXT_SOURCE_3']].std(axis=1)\n",
    "    df['NEW_SCORES_STD'] = df['NEW_SCORES_STD'].fillna(df['NEW_SCORES_STD'].mean())\n",
    "    \n",
    "    return df\n"
   ]
  },
  {
   "cell_type": "markdown",
   "metadata": {},
   "source": [
    "## Construction du modèle"
   ]
  },
  {
   "cell_type": "code",
   "execution_count": 8,
   "metadata": {},
   "outputs": [],
   "source": [
    "def preprocess_buildmodel(train,test,cvtype):\n",
    "    \n",
    "    train = featureengineering(train)\n",
    "    test = featureengineering(test)\n",
    "    \n",
    "    \n",
    "    print('--------Encoding Categorical Data----------')\n",
    "    \n",
    "    app_train_encoded,app_test_encoded,target = one_hot_code(train, test)\n",
    "    print('-----------Scaling Data------------------------')\n",
    "    train_scaled, test_scaled = scale_data(app_train_encoded, app_test_encoded)\n",
    "    \n",
    "    print('---------Splitting Data-----------------')\n",
    "\n",
    "    X_train, X_test, Y_train, Y_test = train_test_split(train_scaled, target, stratify = target, test_size = 0.2, random_state = 1)\n",
    "    params = {'lr': {\"C\": np.logspace(-3, 3, 7), \"penalty\":[\"l1\", \"l2\"]}}\n",
    "    models = {'lr': LogisticRegression()}\n",
    "    \n",
    "    from collections import defaultdict\n",
    "    \n",
    "    model_result = defaultdict(list)\n",
    "    \n",
    "    for key in models.keys():\n",
    "        \n",
    "        model = models[key]\n",
    "        param = params[key]\n",
    "        \n",
    "        if cvtype == 'grid':\n",
    "            clf=GridSearchCV(model,param, cv = 5, verbose = 0)\n",
    "        elif cvtype == 'rand':\n",
    "            clf = RandomizedSearchCV(model, param, random_state = 1, n_iter = 100, cv=5, verbose = 0, n_jobs = -1)\n",
    "    \n",
    "        clf.fit(X_train, Y_train)\n",
    "        \n",
    "        print(\"tuned hpyerparameters :(best parameters) \", clf.best_params_)\n",
    "        print(\"accuracy :\", clf.best_score_)\n",
    "        \n",
    "    \n",
    "        aucscoretr = roc_auc_score(Y_train, clf.predict_proba(X_train)[: , 1])\n",
    "        aucscore = roc_auc_score(Y_test, clf.predict_proba(X_test)[: , 1])\n",
    "        print(\"roc_auc :\", aucscore)\n",
    "\n",
    "        model_result[key] = clf, clf.best_estimator_.get_params(), aucscoretr, aucscore \n",
    "        \n",
    "    return model_result, X_train, X_test, Y_train, Y_test, test_scaled\n",
    "    "
   ]
  },
  {
   "cell_type": "markdown",
   "metadata": {},
   "source": [
    "# Exécution "
   ]
  },
  {
   "cell_type": "markdown",
   "metadata": {},
   "source": [
    "# Importation de toutes les données"
   ]
  },
  {
   "cell_type": "code",
   "execution_count": 9,
   "metadata": {},
   "outputs": [
    {
     "name": "stdout",
     "output_type": "stream",
     "text": [
      "--------------------------------------------------------------------------------\n",
      "train\n",
      "Memory usage of dataframe is  286.23 MB\n",
      "Memory usage after optimization is: 59.54 MB\n",
      "Decreased by 79.2%\n",
      "--------------------------------------------------------------------------------\n",
      "test\n",
      "Memory usage of dataframe is  45.00 MB\n",
      "Memory usage after optimization is: 9.40 MB\n",
      "Decreased by 79.1%\n",
      "--------------------------------------------------------------------------------\n",
      "bureau_balance\n",
      "Memory usage of dataframe is  624.85 MB\n",
      "Memory usage after optimization is: 156.21 MB\n",
      "Decreased by 75.0%\n",
      "--------------------------------------------------------------------------------\n",
      "bureau\n",
      "Memory usage of dataframe is  222.62 MB\n",
      "Memory usage after optimization is: 78.57 MB\n",
      "Decreased by 64.7%\n",
      "--------------------------------------------------------------------------------\n",
      "credit_card_balance\n",
      "Memory usage of dataframe is  673.88 MB\n",
      "Memory usage after optimization is: 263.69 MB\n",
      "Decreased by 60.9%\n",
      "--------------------------------------------------------------------------------\n",
      "installments_payments\n",
      "Memory usage of dataframe is  830.41 MB\n",
      "Memory usage after optimization is: 311.40 MB\n",
      "Decreased by 62.5%\n",
      "--------------------------------------------------------------------------------\n",
      "pos_cash_balance\n",
      "Memory usage of dataframe is  610.43 MB\n",
      "Memory usage after optimization is: 171.69 MB\n",
      "Decreased by 71.9%\n",
      "--------------------------------------------------------------------------------\n",
      "previous_application\n",
      "Memory usage of dataframe is  471.48 MB\n",
      "Memory usage after optimization is: 130.62 MB\n",
      "Decreased by 72.3%\n"
     ]
    }
   ],
   "source": [
    "train, test, bureau_balance, bureau, credit_card, installments, pos_cash, previous_app = importdata()"
   ]
  },
  {
   "cell_type": "markdown",
   "metadata": {},
   "source": [
    "# Construction du modèle avec seulement Application_Data "
   ]
  },
  {
   "cell_type": "code",
   "execution_count": 11,
   "metadata": {},
   "outputs": [
    {
     "name": "stdout",
     "output_type": "stream",
     "text": [
      "--------Encoding Categorical Data----------\n",
      "Aligning Train and Test Data\n",
      "Training Features shape:  (307507, 259)\n",
      "Testing Features shape:  (48744, 259)\n",
      "-----------Scaling Data------------------------\n",
      "Training data shape:  (307507, 259)\n",
      "Testing data shape:  (48744, 259)\n",
      "---------Splitting Data-----------------\n",
      "tuned hpyerparameters :(best parameters)  {'penalty': 'l2', 'C': 0.1}\n",
      "accuracy : 0.9193390378244345\n",
      "roc_auc : 0.749030752633345\n"
     ]
    }
   ],
   "source": [
    "\n",
    "model_result, X_train, X_test, Y_train, Y_test, test_scaled = preprocess_buildmodel(train, test,'rand')"
   ]
  },
  {
   "cell_type": "markdown",
   "metadata": {},
   "source": [
    "## Combinaison des données importées"
   ]
  },
  {
   "cell_type": "code",
   "execution_count": 16,
   "metadata": {},
   "outputs": [],
   "source": [
    "#ajout jocelyne\n",
    "# Days 365.243 values -> nan\n",
    "previous_app['DAYS_FIRST_DRAWING'].replace(365243, np.nan, inplace = True)\n",
    "previous_app['DAYS_FIRST_DUE'].replace(365243, np.nan, inplace = True)\n",
    "previous_app['DAYS_LAST_DUE_1ST_VERSION'].replace(365243, np.nan, inplace = True)\n",
    "previous_app['DAYS_LAST_DUE'].replace(365243, np.nan, inplace = True)\n",
    "previous_app['DAYS_TERMINATION'].replace(365243, np.nan, inplace = True)\n",
    "# Add feature: value ask / value received percentage\n",
    "previous_app['APP_CREDIT_PERC'] = previous_app['AMT_APPLICATION'] / previous_app['AMT_CREDIT']\n",
    "#\n",
    "prev_apps_avg = previous_app.groupby('SK_ID_CURR').mean()\n",
    "prev_apps_avg.columns = ['p_' + col for col in prev_apps_avg.columns]\n",
    "#//\n",
    "train_prev_app = train.merge(right = prev_apps_avg.reset_index(), how ='left', on='SK_ID_CURR')\n",
    "# jv\n",
    "# data = train.append(test)\n",
    "# train_prev_app = data.merge(right = prev_apps_avg.reset_index(), how ='left', on='SK_ID_CURR')\n",
    "# fn jv\n",
    "\n",
    "avg_inst = installments.groupby('SK_ID_CURR').mean()\n",
    "avg_inst.columns = ['i_' + f_ for f_ in avg_inst.columns]\n",
    "train_prev_app_inst = train_prev_app.merge(right=avg_inst.reset_index(), how = 'left', on = 'SK_ID_CURR')\n",
    "\n",
    "pos_cash = pos_cash.groupby('SK_ID_CURR').mean()\n",
    "train_prev_app_inst_pos = train_prev_app_inst.merge(right = pos_cash.reset_index(), how ='left', on = 'SK_ID_CURR')\n",
    "\n",
    "avg_cc_bal = credit_card.groupby('SK_ID_CURR').mean()\n",
    "avg_cc_bal.columns = ['cc_bal_' + f_ for f_ in avg_cc_bal.columns]\n",
    "train_prev_app_inst_pos_credit = train_prev_app_inst_pos.merge(right = avg_cc_bal.reset_index(), how = 'left', on = 'SK_ID_CURR')\n",
    "\n",
    "# bureau_avg = bureau.groupby('SK_ID_CURR').mean()\n",
    "# bureau_avg.columns = ['B_' + f_ for f_ in bureau_avg.columns]\n",
    "# train_prev_app_inst_pos_credit_bureau = train_prev_app_inst_pos_credit.merge(right=bureau_avg.reset_index(), how='left', on='SK_ID_CURR')\n",
    "# ajout jv\n",
    "bureau_balance_avg = bureau_balance.groupby(\"SK_ID_BUREAU\").mean()\n",
    "bureau_balance_avg.columns = ['BB_' + f_ for f_ in bureau_balance_avg.columns]\n",
    "bureau_bb =  bureau.merge(right = bureau_balance_avg, how = \"left\", on = \"SK_ID_BUREAU\")\n",
    "bureau_bb.drop(['SK_ID_BUREAU'], axis = 1, inplace = True)\n",
    "bureau_bb\n",
    "#\n",
    "bureau_avg = bureau_bb.groupby('SK_ID_CURR').mean()\n",
    "bureau_avg.columns = ['B_' + f_ for f_ in bureau_avg.columns]\n",
    "train_prev_app_inst_pos_credit_bureau = train_prev_app_inst_pos_credit.merge(right = bureau_avg.reset_index(), how = 'left', on = 'SK_ID_CURR')\n"
   ]
  },
  {
   "cell_type": "code",
   "execution_count": null,
   "metadata": {},
   "outputs": [],
   "source": []
  },
  {
   "cell_type": "code",
   "execution_count": null,
   "metadata": {},
   "outputs": [],
   "source": []
  },
  {
   "cell_type": "code",
   "execution_count": 17,
   "metadata": {},
   "outputs": [],
   "source": [
    "app_train = train_prev_app_inst_pos_credit_bureau\n",
    "app_test = test\n",
    "\n",
    "#"
   ]
  },
  {
   "cell_type": "code",
   "execution_count": 18,
   "metadata": {},
   "outputs": [
    {
     "data": {
      "text/plain": [
       "Index(['SK_ID_CURR', 'TARGET', 'NAME_CONTRACT_TYPE', 'CODE_GENDER',\n",
       "       'FLAG_OWN_CAR', 'FLAG_OWN_REALTY', 'CNT_CHILDREN', 'AMT_INCOME_TOTAL',\n",
       "       'AMT_CREDIT', 'AMT_ANNUITY',\n",
       "       ...\n",
       "       'B_DAYS_ENDDATE_FACT', 'B_AMT_CREDIT_MAX_OVERDUE',\n",
       "       'B_CNT_CREDIT_PROLONG', 'B_AMT_CREDIT_SUM', 'B_AMT_CREDIT_SUM_DEBT',\n",
       "       'B_AMT_CREDIT_SUM_LIMIT', 'B_AMT_CREDIT_SUM_OVERDUE',\n",
       "       'B_DAYS_CREDIT_UPDATE', 'B_AMT_ANNUITY', 'B_BB_MONTHS_BALANCE'],\n",
       "      dtype='object', length=190)"
      ]
     },
     "execution_count": 18,
     "metadata": {},
     "output_type": "execute_result"
    }
   ],
   "source": [
    "app_train.columns"
   ]
  },
  {
   "cell_type": "markdown",
   "metadata": {},
   "source": [
    "# Exécution du modèle sans tenir compte du déséquilibre des données"
   ]
  },
  {
   "cell_type": "code",
   "execution_count": 19,
   "metadata": {},
   "outputs": [
    {
     "name": "stdout",
     "output_type": "stream",
     "text": [
      "Shape (307511, 190)\n",
      "--------Encoding Categorical Data----------\n",
      "Aligning Train and Test Data\n",
      "Training Features shape:  (307507, 259)\n",
      "Testing Features shape:  (48744, 259)\n",
      "-----------Scaling Data------------------------\n",
      "Training data shape:  (307507, 259)\n",
      "Testing data shape:  (48744, 259)\n",
      "---------Splitting Data-----------------\n",
      "tuned hpyerparameters :(best parameters)  {'penalty': 'l2', 'C': 0.1}\n",
      "accuracy : 0.9193552976565517\n",
      "roc_auc : 0.7491119086590907\n"
     ]
    }
   ],
   "source": [
    "#app_train = train_prev_app_inst_pos_credit_bureau.sample(data_size)\n",
    "app_train = train_prev_app_inst_pos_credit_bureau\n",
    "app_test = test\n",
    "print('Shape', app_train.shape)\n",
    "model_result, X_train, X_test, Y_train, Y_test, test_scaled = preprocess_buildmodel(app_train, app_test, 'rand')"
   ]
  },
  {
   "cell_type": "code",
   "execution_count": 20,
   "metadata": {},
   "outputs": [
    {
     "name": "stdout",
     "output_type": "stream",
     "text": [
      "accuracy : 0.9194497739910897\n",
      "roc_auc : 0.7491119086590907\n"
     ]
    },
    {
     "data": {
      "text/plain": [
       "array([[226018,    127],\n",
       "       [ 19704,    156]], dtype=int64)"
      ]
     },
     "execution_count": 20,
     "metadata": {},
     "output_type": "execute_result"
    }
   ],
   "source": [
    "from sklearn.metrics import confusion_matrix\n",
    "from sklearn.linear_model import LogisticRegression\n",
    "clf = LogisticRegression( random_state=0, C = 0.1, penalty = \"l2\").fit(X_train, Y_train)\n",
    "\n",
    "# clf = model_result['lr'][0]\n",
    "\n",
    "print(\"accuracy :\", clf.score(X_test, Y_test))\n",
    "        \n",
    "    \n",
    "aucscoretr = roc_auc_score(Y_train, clf.predict_proba(X_train)[:, 1])\n",
    "aucscore = roc_auc_score(Y_test, clf.predict_proba(X_test)[:, 1])\n",
    "print(\"roc_auc :\", aucscore)\n",
    "\n",
    "\n",
    "predicts = clf.predict(X_train)\n",
    "confusion_matrix(Y_train, predicts)"
   ]
  },
  {
   "cell_type": "code",
   "execution_count": 21,
   "metadata": {},
   "outputs": [
    {
     "data": {
      "text/plain": [
       "<sklearn.metrics._plot.confusion_matrix.ConfusionMatrixDisplay at 0x1ae05cf8220>"
      ]
     },
     "execution_count": 21,
     "metadata": {},
     "output_type": "execute_result"
    },
    {
     "data": {
      "image/png": "[encoded data removed]",
      "text/plain": [
       "<Figure size 432x288 with 2 Axes>"
      ]
     },
     "metadata": {
      "needs_background": "light"
     },
     "output_type": "display_data"
    }
   ],
   "source": [
    "from sklearn.metrics import plot_confusion_matrix\n",
    "plot_confusion_matrix(clf, X_train, Y_train) "
   ]
  },
  {
   "cell_type": "code",
   "execution_count": 22,
   "metadata": {},
   "outputs": [
    {
     "name": "stdout",
     "output_type": "stream",
     "text": [
      "Precision: 0.5512367491166078\n",
      "Recall: 0.00785498489425982\n"
     ]
    }
   ],
   "source": [
    "from sklearn.metrics import precision_score, recall_score, classification_report\n",
    "\n",
    "print(\"Precision:\", precision_score(Y_train, predicts))\n",
    "print(\"Recall:\", recall_score(Y_train, predicts))"
   ]
  },
  {
   "cell_type": "markdown",
   "metadata": {},
   "source": [
    "Le recall c'est la proportion de positif que l'on a correctement identifié.\n",
    "La précision c'est la proportion de prédiction correcte parmi les points que l'on a prédit positif."
   ]
  },
  {
   "cell_type": "code",
   "execution_count": 23,
   "metadata": {},
   "outputs": [
    {
     "name": "stdout",
     "output_type": "stream",
     "text": [
      "              precision    recall  f1-score   support\n",
      "\n",
      "           0       0.92      1.00      0.96    226145\n",
      "           1       0.55      0.01      0.02     19860\n",
      "\n",
      "    accuracy                           0.92    246005\n",
      "   macro avg       0.74      0.50      0.49    246005\n",
      "weighted avg       0.89      0.92      0.88    246005\n",
      "\n"
     ]
    }
   ],
   "source": [
    "print(classification_report(Y_train, predicts))"
   ]
  },
  {
   "cell_type": "markdown",
   "metadata": {},
   "source": [
    "# Courbe ROC"
   ]
  },
  {
   "cell_type": "code",
   "execution_count": 24,
   "metadata": {},
   "outputs": [
    {
     "data": {
      "text/plain": [
       "Text(0.5, 1.0, 'ROC Curve on the Test Set')"
      ]
     },
     "execution_count": 24,
     "metadata": {},
     "output_type": "execute_result"
    },
    {
     "data": {
      "image/png": "[encoded data removed]",
      "text/plain": [
       "<Figure size 576x432 with 1 Axes>"
      ]
     },
     "metadata": {
      "needs_background": "light"
     },
     "output_type": "display_data"
    }
   ],
   "source": [
    "from sklearn import metrics\n",
    "\n",
    "fig, ax = plt.subplots(figsize=(8, 6))\n",
    "metrics.plot_roc_curve(clf, X_test, Y_test, ax = ax, color = 'black', lw=4)\n",
    "ax.plot([0, 1], linestyle = '--', lw = 4, color = 'red')\n",
    "ax.set_title('ROC Curve on the Test Set')\n"
   ]
  },
  {
   "cell_type": "markdown",
   "metadata": {},
   "source": [
    "Plus la courbe bleue penche vers le coin supérieur gauche (angle droit), mieux un modèle prédit les résultats réels."
   ]
  },
  {
   "cell_type": "markdown",
   "metadata": {},
   "source": [
    "# Application de méthodes de rééchantillonnage pour pallier au déséquilibre des données"
   ]
  },
  {
   "cell_type": "markdown",
   "metadata": {},
   "source": [
    "## Utilisation des méthodes de rééchantillonnage"
   ]
  },
  {
   "cell_type": "markdown",
   "metadata": {},
   "source": [
    "Modifier l’ensemble de données que vous utilisez avant d’entraîner votre modèle prédictif afin d’avoir des données plus équilibrées.\n",
    "\n",
    "Cette stratégie est appelée rééchantillonnage et il existe deux méthodes principales que vous pouvez utiliser pour égaliser les classes : \n",
    "\n",
    "Le sur-échantillonnage : Oversampling et le sous-échantillonnage :Undersampling. \n",
    "\n",
    "* Les méthodes d’Oversampling fonctionnent en augmentant le nombre d’observations de la (des) classe(s) minoritaire(s) afin d’arriver à un ratio classe minoritaire/ classe majoritaire satisfaisant.\n",
    "\n",
    "* Les méthodes d’Undersampling fonctionnent en diminuant le nombre d’observations de la  (des) classe(s) majoritaire(s) afin d’arriver à un ratio classe minoritaire/ classe majoritaire satisfaisant.\n",
    "\n",
    "\n",
    "* Privilégiez le sous-échantillonnage lorsque vous disposez de grands jeux de données : des dizaines ou des centaines de milliers de cas ou plus.\n",
    "* Privilégiez le sur-échantillonnage lorsque vous ne disposez pas de beaucoup de données :des dizaines de milliers ou moins."
   ]
  },
  {
   "cell_type": "code",
   "execution_count": 25,
   "metadata": {},
   "outputs": [],
   "source": [
    "def reechantillonnage_model_lr(X_re, y_re, X_train, y_train, X_test, y_test):\n",
    "    '''\n",
    "    En entrée :\n",
    "    X_re : \n",
    "    y_re :\n",
    "    X_train :\n",
    "    y_train :\n",
    "    X_test :\n",
    "    y_test :\n",
    "    En sortie\n",
    "    clf :\n",
    "    '''\n",
    "    \n",
    "    params={'lr': {\"C\": np.logspace(-3,3,7), \"penalty\": [\"l1\",\"l2\"]} }\n",
    "    models = {'lr': LogisticRegression()}\n",
    "    clf = GridSearchCV(models['lr'], params['lr'], cv = 5, verbose = 0)\n",
    "    clf.fit(X_re, y_re)\n",
    "        \n",
    "    print(\"tuned hyperparameters :(best parameters) \", clf.best_params_)\n",
    "    print(\"accuracy :\", clf.best_score_)\n",
    "        \n",
    "\n",
    "    y_pred = clf.predict(X_test)\n",
    "    print(classification_report_imbalanced(Y_test, y_pred))\n",
    "\n",
    "\n",
    "#     print(\"accuracy :\",clf.score(X_test, y_test))\n",
    "\n",
    "\n",
    "    plot_confusion_matrix(clf, X_train, y_train) \n",
    "    \n",
    "    aucscoretr = roc_auc_score(y_train, clf.predict_proba(X_train)[: , 1])\n",
    "    aucscore = roc_auc_score(y_test, clf.predict_proba(X_test)[: , 1])\n",
    "    print(\"roc_auc :\", aucscore)\n",
    "\n",
    "    fig, ax = plt.subplots(figsize=(8, 6))\n",
    "    metrics.plot_roc_curve(clf, X_test, y_test, ax = ax, color = 'black', lw = 4)\n",
    "    ax.plot([0, 1], linestyle = '--', lw = 4, color = 'red')\n",
    "    ax.set_title('ROC Curve on the Test Set')\n",
    "    return clf"
   ]
  },
  {
   "cell_type": "code",
   "execution_count": 26,
   "metadata": {},
   "outputs": [
    {
     "name": "stdout",
     "output_type": "stream",
     "text": [
      "tuned hyperparameters :(best parameters)  {'C': 10.0, 'penalty': 'l2'}\n",
      "accuracy : 0.6834088620342397\n",
      "                   pre       rec       spe        f1       geo       iba       sup\n",
      "\n",
      "          0       0.96      0.68      0.68      0.80      0.68      0.46     56537\n",
      "          1       0.16      0.68      0.68      0.26      0.68      0.46      4965\n",
      "\n",
      "avg / total       0.90      0.68      0.68      0.75      0.68      0.46     61502\n",
      "\n",
      "roc_auc : 0.7493659714433458\n"
     ]
    },
    {
     "data": {
      "image/png": "[encoded data removed]",
      "text/plain": [
       "<Figure size 432x288 with 2 Axes>"
      ]
     },
     "metadata": {
      "needs_background": "light"
     },
     "output_type": "display_data"
    },
    {
     "data": {
      "image/png": "[encoded data removed]",
      "text/plain": [
       "<Figure size 576x432 with 1 Axes>"
      ]
     },
     "metadata": {
      "needs_background": "light"
     },
     "output_type": "display_data"
    }
   ],
   "source": [
    "from sklearn.linear_model import LogisticRegression\n",
    "from imblearn.over_sampling import RandomOverSampler\n",
    "from imblearn.under_sampling import RandomUnderSampler\n",
    "from imblearn.metrics import classification_report_imbalanced\n",
    "\n",
    "# Sous-échantillonnage\n",
    "rUs = RandomUnderSampler()\n",
    "X_ru, y_ru = rUs.fit_resample(X_train, Y_train)\n",
    "# Entraînement du modèle de régression logistique\n",
    "\n",
    "clf_1 = reechantillonnage_model_lr(X_ru, y_ru, X_train, Y_train, X_test, Y_test)\n"
   ]
  },
  {
   "cell_type": "markdown",
   "metadata": {},
   "source": [
    "## La génération d’échantillons synthétiques"
   ]
  },
  {
   "cell_type": "markdown",
   "metadata": {},
   "source": [
    "\n",
    "Il existe des algorithmes pour générer des échantillons synthétiques de manière automatique. Le plus populaire de ces algorithmes est SMOTE (pour Synthetic Minority Over-sampling Technique). Comme son nom l’indique, SMOTE est une méthode de sur-échantillonnage. Elle fonctionne en créant des échantillons synthétiques à partir de la classe minoritaire au lieu de créer de simples copies. \n"
   ]
  },
  {
   "cell_type": "code",
   "execution_count": 27,
   "metadata": {},
   "outputs": [
    {
     "name": "stdout",
     "output_type": "stream",
     "text": [
      "tuned hyperparameters :(best parameters)  {'C': 10.0, 'penalty': 'l2'}\n",
      "accuracy : 0.7115722213624001\n",
      "                   pre       rec       spe        f1       geo       iba       sup\n",
      "\n",
      "          0       0.96      0.70      0.65      0.81      0.68      0.46     56537\n",
      "          1       0.16      0.65      0.70      0.26      0.68      0.46      4965\n",
      "\n",
      "avg / total       0.89      0.70      0.66      0.77      0.68      0.46     61502\n",
      "\n",
      "roc_auc : 0.740086069704088\n"
     ]
    },
    {
     "data": {
      "image/png": "[encoded data removed]",
      "text/plain": [
       "<Figure size 432x288 with 2 Axes>"
      ]
     },
     "metadata": {
      "needs_background": "light"
     },
     "output_type": "display_data"
    },
    {
     "data": {
      "image/png": "[encoded data removed]",
      "text/plain": [
       "<Figure size 576x432 with 1 Axes>"
      ]
     },
     "metadata": {
      "needs_background": "light"
     },
     "output_type": "display_data"
    }
   ],
   "source": [
    "from imblearn.over_sampling import SMOTE \n",
    "\n",
    "# SMOTE\n",
    "smo = SMOTE()\n",
    "X_sm, y_sm = smo.fit_resample(X_train, Y_train)\n",
    "\n",
    "clf_2 = reechantillonnage_model_lr(X_sm, y_sm, X_train, Y_train, X_test, Y_test)\n"
   ]
  },
  {
   "cell_type": "code",
   "execution_count": null,
   "metadata": {},
   "outputs": [],
   "source": []
  },
  {
   "cell_type": "markdown",
   "metadata": {},
   "source": [
    "References:\n",
    "\n",
    "Reducing Memory usage  - https://www.kaggle.com/gemartin/load-data-reduce-memory-usage\n",
    "\n",
    "Notebook de référence : https://www.kaggle.com/ganeshn88/home-credit-model"
   ]
  },
  {
   "cell_type": "code",
   "execution_count": null,
   "metadata": {},
   "outputs": [],
   "source": []
  }
 ],
 "metadata": {
  "kernelspec": {
   "display_name": "Python 3",
   "language": "python",
   "name": "python3"
  },
  "language_info": {
   "codemirror_mode": {
    "name": "ipython",
    "version": 3
   },
   "file_extension": ".py",
   "mimetype": "text/x-python",
   "name": "python",
   "nbconvert_exporter": "python",
   "pygments_lexer": "ipython3",
   "version": "3.8.8"
  }
 },
 "nbformat": 4,
 "nbformat_minor": 4
}
