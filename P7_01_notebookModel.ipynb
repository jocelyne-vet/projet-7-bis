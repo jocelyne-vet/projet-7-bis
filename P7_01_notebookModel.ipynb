{
 "cells": [
  {
   "cell_type": "code",
   "execution_count": 42,
   "id": "52a597a6",
   "metadata": {},
   "outputs": [
    {
     "data": {
      "text/html": [
       "        <script type=\"text/javascript\">\n",
       "        window.PlotlyConfig = {MathJaxConfig: 'local'};\n",
       "        if (window.MathJax) {MathJax.Hub.Config({SVG: {font: \"STIX-Web\"}});}\n",
       "        if (typeof require !== 'undefined') {\n",
       "        require.undef(\"plotly\");\n",
       "        requirejs.config({\n",
       "            paths: {\n",
       "                'plotly': ['https://cdn.plot.ly/plotly-2.2.0.min']\n",
       "            }\n",
       "        });\n",
       "        require(['plotly'], function(Plotly) {\n",
       "            window._Plotly = Plotly;\n",
       "        });\n",
       "        }\n",
       "        </script>\n",
       "        "
      ]
     },
     "metadata": {},
     "output_type": "display_data"
    }
   ],
   "source": [
    "import pandas as pd\n",
    "import seaborn as sns\n",
    "import matplotlib.pyplot as plt\n",
    "import numpy as np\n",
    "import missingno as msno\n",
    "from plotly.offline import init_notebook_mode, iplot\n",
    "init_notebook_mode(connected=True)\n",
    "import plotly.graph_objects as go\n",
    "from os import listdir\n",
    "from os.path import isfile, join\n",
    "from collections import Counter"
   ]
  },
  {
   "cell_type": "markdown",
   "id": "7795666e",
   "metadata": {},
   "source": [
    "https://www.kaggle.com/jirakst/homecredit-an-approach"
   ]
  },
  {
   "cell_type": "code",
   "execution_count": 2,
   "id": "961d4486",
   "metadata": {},
   "outputs": [],
   "source": [
    "data_application = pd.read_csv(\"csv/application_train.csv\")\n",
    "data_application_test = pd.read_csv(\"csv/application_test.csv\")\n"
   ]
  },
  {
   "cell_type": "code",
   "execution_count": 3,
   "id": "83b8fa91",
   "metadata": {},
   "outputs": [
    {
     "name": "stdout",
     "output_type": "stream",
     "text": [
      "data_application :  (307511, 122)\n",
      "data_application_test :  (48744, 121)\n",
      "data_bureau :  (1716428, 17)\n",
      "data_bureau_balance :  (27299925, 3)\n",
      "data_credit_card_balance :  (3840312, 23)\n",
      "data_installments_payments :  (13605401, 8)\n",
      "data_previous_application :  (1670214, 37)\n"
     ]
    }
   ],
   "source": [
    "print(\"data_application : \", data_application.shape)\n",
    "print(\"data_application_test : \", data_application_test.shape)\n"
   ]
  },
  {
   "cell_type": "markdown",
   "id": "aa59c11c",
   "metadata": {},
   "source": [
    "Valeurs abbérantes"
   ]
  },
  {
   "cell_type": "markdown",
   "id": "20afe965",
   "metadata": {},
   "source": [
    "Regardons la variable days_employed"
   ]
  },
  {
   "cell_type": "code",
   "execution_count": 20,
   "id": "3d82ffae",
   "metadata": {},
   "outputs": [
    {
     "data": {
      "text/plain": [
       "count    307511.000000\n",
       "mean      63815.045904\n",
       "std      141275.766519\n",
       "min      -17912.000000\n",
       "25%       -2760.000000\n",
       "50%       -1213.000000\n",
       "75%        -289.000000\n",
       "max      365243.000000\n",
       "Name: DAYS_EMPLOYED, dtype: float64"
      ]
     },
     "execution_count": 20,
     "metadata": {},
     "output_type": "execute_result"
    }
   ],
   "source": [
    "data_application[\"DAYS_EMPLOYED\"].describe()"
   ]
  },
  {
   "cell_type": "markdown",
   "id": "26d3ebac",
   "metadata": {},
   "source": [
    "Le nombre maximal de jours travaillés est de 1000 ans ce qui est impossible"
   ]
  },
  {
   "cell_type": "code",
   "execution_count": 21,
   "id": "827b47fb",
   "metadata": {},
   "outputs": [
    {
     "data": {
      "text/plain": [
       "(55374, 122)"
      ]
     },
     "execution_count": 21,
     "metadata": {},
     "output_type": "execute_result"
    }
   ],
   "source": [
    "data_application[data_application['DAYS_EMPLOYED'] == 365243].shape\n"
   ]
  },
  {
   "cell_type": "code",
   "execution_count": 22,
   "id": "e2e617e7",
   "metadata": {},
   "outputs": [
    {
     "data": {
      "image/png": "[encoded data removed]",
      "text/plain": [
       "<Figure size 432x288 with 1 Axes>"
      ]
     },
     "metadata": {
      "needs_background": "light"
     },
     "output_type": "display_data"
    }
   ],
   "source": [
    "data_application['DAYS_EMPLOYED'].plot.hist(title = 'Days Employment Histogram');\n",
    "plt.xlabel('Days Employment');"
   ]
  },
  {
   "cell_type": "markdown",
   "id": "b509708a",
   "metadata": {},
   "source": [
    "Il y a plus de 55374 lignes ayant un nombre de jours travaillés de 365243. Nous allons modifier ces données et les remplir\n",
    "avec la valeur np.nan"
   ]
  },
  {
   "cell_type": "code",
   "execution_count": 23,
   "id": "c58fe76b",
   "metadata": {},
   "outputs": [],
   "source": [
    "data_application['DAYS_EMPLOYED'].replace({365243: np.nan}, inplace = True)"
   ]
  },
  {
   "cell_type": "code",
   "execution_count": 24,
   "id": "6a44759c",
   "metadata": {},
   "outputs": [
    {
     "data": {
      "image/png": "[encoded data removed]",
      "text/plain": [
       "<Figure size 432x288 with 1 Axes>"
      ]
     },
     "metadata": {
      "needs_background": "light"
     },
     "output_type": "display_data"
    }
   ],
   "source": [
    "plt.figure(figsize=(6,4))\n",
    "data_application['DAYS_EMPLOYED'].plot.hist(title = 'Days Employment Histogram');\n",
    "plt.xlabel('Days Employment');"
   ]
  },
  {
   "cell_type": "code",
   "execution_count": null,
   "id": "4d15d5d7",
   "metadata": {},
   "outputs": [],
   "source": []
  },
  {
   "cell_type": "code",
   "execution_count": null,
   "id": "0a6ac7f5",
   "metadata": {},
   "outputs": [],
   "source": []
  },
  {
   "cell_type": "code",
   "execution_count": 39,
   "id": "251448cf",
   "metadata": {},
   "outputs": [],
   "source": [
    "def detect_outliers(df,n,features):\n",
    "    '''\n",
    "    En entrée :\n",
    "    df : dataframe\n",
    "    n : nb d'outliers\n",
    "    features : liste de features\n",
    "    En sortie\n",
    "    multiple_outliers : observations avec plus de n outliers\n",
    "    '''\n",
    "    \n",
    "    outlier_indices = []\n",
    "    \n",
    "    for col in features:\n",
    "        Q1 = df[col].quantile(0.02)\n",
    "        Q3 = df[col].quantile(0.98)\n",
    "        IQR = Q3 - Q1\n",
    "        \n",
    "        outliers = df[(df[col] < Q1 - 1.5 * IQR) | (df[col] > Q3 + 1.5 * IQR )].index\n",
    "        outlier_indices.extend(outliers)\n",
    "        \n",
    "    # Select observations with more than n outliers\n",
    "    outlier_indices = Counter(outlier_indices)        \n",
    "    multiple_outliers = list( k for k, v in outlier_indices.items() if v > n )\n",
    "    \n",
    "    return multiple_outliers"
   ]
  },
  {
   "cell_type": "code",
   "execution_count": 40,
   "id": "78f16636",
   "metadata": {},
   "outputs": [],
   "source": [
    "# Return only float64 features\n",
    "numerical_feature_mask = data_application.dtypes == float\n",
    "numerical_cols = data_application.columns[numerical_feature_mask].tolist()"
   ]
  },
  {
   "cell_type": "code",
   "execution_count": 43,
   "id": "eaacd426",
   "metadata": {},
   "outputs": [],
   "source": [
    "# Detect outliers\n",
    "Outliers_to_drop = detect_outliers(data_application, 2, numerical_cols)"
   ]
  },
  {
   "cell_type": "code",
   "execution_count": 44,
   "id": "885c534b",
   "metadata": {},
   "outputs": [
    {
     "data": {
      "text/plain": [
       "2454"
      ]
     },
     "execution_count": 44,
     "metadata": {},
     "output_type": "execute_result"
    }
   ],
   "source": [
    "# Number of outliers to drop\n",
    "len(Outliers_to_drop)"
   ]
  },
  {
   "cell_type": "markdown",
   "id": "c4af9d48",
   "metadata": {},
   "source": [
    "C'est un nombre acceptable"
   ]
  },
  {
   "cell_type": "code",
   "execution_count": 45,
   "id": "8ca71b86",
   "metadata": {},
   "outputs": [],
   "source": [
    "# Remove outliers\n",
    "data_application.drop(Outliers_to_drop, inplace=True)"
   ]
  },
  {
   "cell_type": "markdown",
   "id": "3d0d6a62",
   "metadata": {},
   "source": [
    "# Concaténation des données"
   ]
  },
  {
   "cell_type": "code",
   "execution_count": 46,
   "id": "6830422d",
   "metadata": {},
   "outputs": [],
   "source": [
    "# Save Id for the submission at the very end.\n",
    "Id = data_application_test['SK_ID_CURR']"
   ]
  },
  {
   "cell_type": "code",
   "execution_count": 47,
   "id": "15331383",
   "metadata": {},
   "outputs": [],
   "source": [
    "# Get marker\n",
    "split = len(data_application)"
   ]
  },
  {
   "cell_type": "code",
   "execution_count": 51,
   "id": "84eb1cd8",
   "metadata": {},
   "outputs": [],
   "source": [
    "# Merge into one dataset\n",
    "data =  pd.concat(objs = [data_application, data_application_test], axis = 0).reset_index(drop = True)"
   ]
  },
  {
   "cell_type": "code",
   "execution_count": 52,
   "id": "4447ebe6",
   "metadata": {},
   "outputs": [],
   "source": [
    "# We don't need the Id anymore now.\n",
    "data.drop('SK_ID_CURR', axis = 1, inplace = True)"
   ]
  },
  {
   "cell_type": "code",
   "execution_count": 53,
   "id": "c0387248",
   "metadata": {},
   "outputs": [
    {
     "data": {
      "text/plain": [
       "(353801, 121)"
      ]
     },
     "execution_count": 53,
     "metadata": {},
     "output_type": "execute_result"
    }
   ],
   "source": [
    "data.shape"
   ]
  },
  {
   "cell_type": "markdown",
   "id": "70447c5a",
   "metadata": {},
   "source": [
    "Gestion des valeurs nulles"
   ]
  },
  {
   "cell_type": "code",
   "execution_count": 55,
   "id": "6aff84a6",
   "metadata": {},
   "outputs": [],
   "source": [
    "# Remove mostly sparse features\n",
    "for f in data:\n",
    "    if data[f].isnull().sum() / data.shape[0] >= 0.5:\n",
    "        del data[f] # Or do a boolean flag here"
   ]
  },
  {
   "cell_type": "code",
   "execution_count": 56,
   "id": "ded39e9a",
   "metadata": {},
   "outputs": [
    {
     "data": {
      "text/plain": [
       "dtype('float64')"
      ]
     },
     "execution_count": 56,
     "metadata": {},
     "output_type": "execute_result"
    }
   ],
   "source": [
    "# Check for TARGET data type\n",
    "data['TARGET'].dtype"
   ]
  },
  {
   "cell_type": "code",
   "execution_count": 57,
   "id": "f02eb727",
   "metadata": {},
   "outputs": [],
   "source": [
    "# Select columns due to theirs data type\n",
    "float_col = data.select_dtypes('float').drop(['TARGET'], axis=1)\n",
    "int_col = data.select_dtypes('int')\n",
    "object_col = data.select_dtypes('object')"
   ]
  },
  {
   "cell_type": "code",
   "execution_count": 58,
   "id": "ac32dcde",
   "metadata": {},
   "outputs": [],
   "source": [
    "# Remove and impute numerical features\n",
    "for f in float_col:\n",
    "    if data[f].isnull().sum() / data.shape[0] > 0.1667: \n",
    "        del data[f] # Remove 1/6+ of NANs\n",
    "    else: \n",
    "        data[f] = data[f].fillna(data[f].mean()) # Impute others with a mean value"
   ]
  },
  {
   "cell_type": "code",
   "execution_count": 59,
   "id": "68d904a5",
   "metadata": {},
   "outputs": [],
   "source": [
    "# Impute default value into a numerical category\n",
    "for i in int_col:\n",
    "    data[i] = data[i].fillna(-1)"
   ]
  },
  {
   "cell_type": "code",
   "execution_count": 60,
   "id": "e0d0c048",
   "metadata": {},
   "outputs": [],
   "source": [
    "# Impute object type with a default\n",
    "for o in object_col:\n",
    "    data[o] = data[o].fillna('Unknown')"
   ]
  },
  {
   "cell_type": "code",
   "execution_count": 61,
   "id": "eb0eacea",
   "metadata": {},
   "outputs": [
    {
     "data": {
      "text/plain": [
       "TARGET                48744\n",
       "NAME_CONTRACT_TYPE        0\n",
       "FLAG_DOCUMENT_8           0\n",
       "FLAG_DOCUMENT_7           0\n",
       "FLAG_DOCUMENT_6           0\n",
       "dtype: int64"
      ]
     },
     "execution_count": 61,
     "metadata": {},
     "output_type": "execute_result"
    }
   ],
   "source": [
    "# Check\n",
    "data.isnull().sum().sort_values(ascending=False).head(5)"
   ]
  },
  {
   "cell_type": "markdown",
   "id": "b8beb01a",
   "metadata": {},
   "source": [
    "Seul le target dans le dataset peut-être rempli de valeurs nan"
   ]
  },
  {
   "cell_type": "markdown",
   "id": "c13c12f1",
   "metadata": {},
   "source": [
    "Encodage des données"
   ]
  },
  {
   "cell_type": "code",
   "execution_count": 62,
   "id": "6d955cf7",
   "metadata": {},
   "outputs": [],
   "source": [
    "data = pd.get_dummies(data, prefix_sep='_', drop_first=True) # Drop originall feature to avoid multi-collinearity"
   ]
  },
  {
   "cell_type": "markdown",
   "id": "a871ed8b",
   "metadata": {},
   "source": [
    "Standardisation des données"
   ]
  },
  {
   "cell_type": "markdown",
   "id": "79bdacd9",
   "metadata": {},
   "source": [
    "Dans le but d'utiliser une analyse en composantes principales, nous allons standardiser nos données"
   ]
  },
  {
   "cell_type": "code",
   "execution_count": 63,
   "id": "28fa11a3",
   "metadata": {},
   "outputs": [],
   "source": [
    "#Split data\n",
    "train_c = data[:split]\n",
    "test_c = data[split:].drop(['TARGET'], axis=1)"
   ]
  },
  {
   "cell_type": "code",
   "execution_count": 64,
   "id": "98a28a7e",
   "metadata": {},
   "outputs": [],
   "source": [
    "from sklearn.model_selection import train_test_split\n",
    "\n",
    "# Get variables for a model\n",
    "x = train_c.drop([\"TARGET\"], axis = 1)\n",
    "y = train_c[\"TARGET\"]\n",
    "\n",
    "#Do train data splitting\n",
    "X_train, X_test, y_train, y_test = train_test_split(x, y, test_size = 0.22, random_state = 101)"
   ]
  },
  {
   "cell_type": "code",
   "execution_count": 65,
   "id": "a15e1a3e",
   "metadata": {},
   "outputs": [],
   "source": [
    "from sklearn.preprocessing import StandardScaler\n",
    "\n",
    "scaler = StandardScaler()\n",
    "scaler.fit(X_train) # Fit on training set only.\n",
    "\n",
    "# Apply transform to both the training set and the test set.\n",
    "X_train = scaler.transform(X_train)\n",
    "X_test = scaler.transform(X_test)"
   ]
  },
  {
   "cell_type": "code",
   "execution_count": 66,
   "id": "39b07f3a",
   "metadata": {},
   "outputs": [
    {
     "data": {
      "text/plain": [
       "PCA(n_components=0.95)"
      ]
     },
     "execution_count": 66,
     "metadata": {},
     "output_type": "execute_result"
    }
   ],
   "source": [
    "from sklearn.decomposition import PCA\n",
    "\n",
    "pca = PCA(.95)\n",
    "pca.fit(X_train)"
   ]
  },
  {
   "cell_type": "code",
   "execution_count": 67,
   "id": "997ceebf",
   "metadata": {},
   "outputs": [],
   "source": [
    "X_train = pca.transform(X_train)\n",
    "X_test = pca.transform(X_test)"
   ]
  },
  {
   "cell_type": "markdown",
   "id": "95ba3d3d",
   "metadata": {},
   "source": [
    "# Model"
   ]
  },
  {
   "cell_type": "code",
   "execution_count": 68,
   "id": "efc19f45",
   "metadata": {},
   "outputs": [
    {
     "name": "stdout",
     "output_type": "stream",
     "text": [
      "Accuracy:  0.9190767809515296\n"
     ]
    },
    {
     "name": "stderr",
     "output_type": "stream",
     "text": [
      "C:\\Users\\Jo\\anaconda3\\lib\\site-packages\\sklearn\\linear_model\\_logistic.py:763: ConvergenceWarning:\n",
      "\n",
      "lbfgs failed to converge (status=1):\n",
      "STOP: TOTAL NO. of ITERATIONS REACHED LIMIT.\n",
      "\n",
      "Increase the number of iterations (max_iter) or scale the data as shown in:\n",
      "    https://scikit-learn.org/stable/modules/preprocessing.html\n",
      "Please also refer to the documentation for alternative solver options:\n",
      "    https://scikit-learn.org/stable/modules/linear_model.html#logistic-regression\n",
      "\n"
     ]
    }
   ],
   "source": [
    "from sklearn.linear_model import LogisticRegression\n",
    "\n",
    "lr = LogisticRegression(solver = 'lbfgs').fit(X_train, y_train)\n",
    "pred = lr.predict(X_test)\n",
    "acc = lr.score(X_test, y_test)\n",
    "\n",
    "print(\"Accuracy: \", acc)"
   ]
  },
  {
   "cell_type": "markdown",
   "id": "1abf60b4",
   "metadata": {},
   "source": [
    "# Model Evaluation"
   ]
  },
  {
   "cell_type": "markdown",
   "id": "a747476d",
   "metadata": {},
   "source": [
    "## Matrice de confusion"
   ]
  },
  {
   "cell_type": "code",
   "execution_count": 70,
   "id": "e6e504d9",
   "metadata": {},
   "outputs": [
    {
     "name": "stderr",
     "output_type": "stream",
     "text": [
      "C:\\Users\\Jo\\anaconda3\\lib\\site-packages\\sklearn\\linear_model\\_logistic.py:763: ConvergenceWarning:\n",
      "\n",
      "lbfgs failed to converge (status=1):\n",
      "STOP: TOTAL NO. of ITERATIONS REACHED LIMIT.\n",
      "\n",
      "Increase the number of iterations (max_iter) or scale the data as shown in:\n",
      "    https://scikit-learn.org/stable/modules/preprocessing.html\n",
      "Please also refer to the documentation for alternative solver options:\n",
      "    https://scikit-learn.org/stable/modules/linear_model.html#logistic-regression\n",
      "\n",
      "C:\\Users\\Jo\\anaconda3\\lib\\site-packages\\sklearn\\linear_model\\_logistic.py:763: ConvergenceWarning:\n",
      "\n",
      "lbfgs failed to converge (status=1):\n",
      "STOP: TOTAL NO. of ITERATIONS REACHED LIMIT.\n",
      "\n",
      "Increase the number of iterations (max_iter) or scale the data as shown in:\n",
      "    https://scikit-learn.org/stable/modules/preprocessing.html\n",
      "Please also refer to the documentation for alternative solver options:\n",
      "    https://scikit-learn.org/stable/modules/linear_model.html#logistic-regression\n",
      "\n",
      "C:\\Users\\Jo\\anaconda3\\lib\\site-packages\\sklearn\\linear_model\\_logistic.py:763: ConvergenceWarning:\n",
      "\n",
      "lbfgs failed to converge (status=1):\n",
      "STOP: TOTAL NO. of ITERATIONS REACHED LIMIT.\n",
      "\n",
      "Increase the number of iterations (max_iter) or scale the data as shown in:\n",
      "    https://scikit-learn.org/stable/modules/preprocessing.html\n",
      "Please also refer to the documentation for alternative solver options:\n",
      "    https://scikit-learn.org/stable/modules/linear_model.html#logistic-regression\n",
      "\n"
     ]
    },
    {
     "data": {
      "text/plain": [
       "array([[218718,     17],\n",
       "       [ 19191,     18]], dtype=int64)"
      ]
     },
     "execution_count": 70,
     "metadata": {},
     "output_type": "execute_result"
    }
   ],
   "source": [
    "from sklearn.model_selection import cross_val_predict\n",
    "from sklearn.metrics import confusion_matrix\n",
    "\n",
    "predicts = cross_val_predict(lr, X_train, y_train, cv=3)\n",
    "confusion_matrix(y_train, predicts)"
   ]
  },
  {
   "cell_type": "markdown",
   "id": "81eec8d0",
   "metadata": {},
   "source": [
    "Dans la première ligne, 218718 clients ont été correctement prédits comme n'ayant pas de difficultés de paiement (vrais négatifs) et 17 ont été classés à tort comme n'ayant pas de difficultés de paiement (faux négatifs). Au deuxième rang, 19 192 clients ont été classés à tort en difficulté de paiement (faux positif) et 17 d'entre eux ont été correctement classés en difficulté de paiement (vrai négatif)"
   ]
  },
  {
   "cell_type": "code",
   "execution_count": 73,
   "id": "54bc926d",
   "metadata": {},
   "outputs": [
    {
     "data": {
      "text/plain": [
       "<sklearn.metrics._plot.confusion_matrix.ConfusionMatrixDisplay at 0x1fe375e2c70>"
      ]
     },
     "execution_count": 73,
     "metadata": {},
     "output_type": "execute_result"
    },
    {
     "data": {
      "image/png": "[encoded data removed]",
      "text/plain": [
       "<Figure size 432x288 with 2 Axes>"
      ]
     },
     "metadata": {},
     "output_type": "display_data"
    }
   ],
   "source": [
    "from sklearn.metrics import plot_confusion_matrix\n",
    "plot_confusion_matrix(lr, X_train, y_train) "
   ]
  },
  {
   "cell_type": "markdown",
   "id": "b532cde1",
   "metadata": {},
   "source": [
    "## Precision and Recall"
   ]
  },
  {
   "cell_type": "code",
   "execution_count": 77,
   "id": "3e060db9",
   "metadata": {},
   "outputs": [
    {
     "name": "stdout",
     "output_type": "stream",
     "text": [
      "Precision: 0.5142857142857142\n",
      "Recall: 0.0009370607527721381\n"
     ]
    }
   ],
   "source": [
    "from sklearn.metrics import precision_score, recall_score, classification_report\n",
    "\n",
    "print(\"Precision:\", precision_score(y_train, predicts))\n",
    "print(\"Recall:\",recall_score(y_train, predicts))"
   ]
  },
  {
   "cell_type": "markdown",
   "id": "a7154274",
   "metadata": {},
   "source": [
    "La précison nous donne la probabilité qu'à un client d'être classé correctement."
   ]
  },
  {
   "cell_type": "code",
   "execution_count": 78,
   "id": "d44a1cfc",
   "metadata": {},
   "outputs": [
    {
     "name": "stdout",
     "output_type": "stream",
     "text": [
      "              precision    recall  f1-score   support\n",
      "\n",
      "         0.0       0.92      1.00      0.96    218735\n",
      "         1.0       0.51      0.00      0.00     19209\n",
      "\n",
      "    accuracy                           0.92    237944\n",
      "   macro avg       0.72      0.50      0.48    237944\n",
      "weighted avg       0.89      0.92      0.88    237944\n",
      "\n"
     ]
    }
   ],
   "source": [
    "print(classification_report(y_train, predicts))"
   ]
  },
  {
   "cell_type": "markdown",
   "id": "cb0d6d84",
   "metadata": {},
   "source": [
    "## F1-score"
   ]
  },
  {
   "cell_type": "code",
   "execution_count": 79,
   "id": "4ff36aa1",
   "metadata": {},
   "outputs": [
    {
     "data": {
      "text/plain": [
       "0.0018707129494907506"
      ]
     },
     "execution_count": 79,
     "metadata": {},
     "output_type": "execute_result"
    }
   ],
   "source": [
    "from sklearn.metrics import f1_score\n",
    "\n",
    "f1_score(y_train, predicts)"
   ]
  },
  {
   "cell_type": "markdown",
   "id": "758e361b",
   "metadata": {},
   "source": [
    "Le score F1 est calculé comme la moyenne harmonique de la précision et du rappel, ainsi un score F1 élevé n'est possible que si la précession et le rappel sont élevés"
   ]
  },
  {
   "cell_type": "markdown",
   "id": "deaf2c3f",
   "metadata": {},
   "source": [
    "## Courbe de précision du recall"
   ]
  },
  {
   "cell_type": "code",
   "execution_count": 80,
   "id": "9ed17444",
   "metadata": {},
   "outputs": [
    {
     "data": {
      "image/png": "[encoded data removed]",
      "text/plain": [
       "<Figure size 1008x504 with 1 Axes>"
      ]
     },
     "metadata": {},
     "output_type": "display_data"
    }
   ],
   "source": [
    "from sklearn.metrics import precision_recall_curve\n",
    "\n",
    "y_scores = lr.predict_proba(X_train)\n",
    "y_scores = y_scores[:,1]\n",
    "\n",
    "precision, recall, threshold = precision_recall_curve(y_train, y_scores)\n",
    "\n",
    "def plot_precision_and_recall(precision, recall, threshold):\n",
    "    plt.plot(threshold, precision[:-1], \"r-\", label=\"precision\", linewidth=5)\n",
    "    plt.plot(threshold, recall[:-1], \"b\", label=\"recall\", linewidth=5)\n",
    "    plt.xlabel(\"threshold\", fontsize=19)\n",
    "    plt.legend(loc=\"upper right\", fontsize=19)\n",
    "    plt.ylim([0, 1])\n",
    "\n",
    "plt.figure(figsize=(14, 7))\n",
    "plot_precision_and_recall(precision, recall, threshold)\n",
    "plt.show()"
   ]
  },
  {
   "cell_type": "markdown",
   "id": "8f892a9b",
   "metadata": {},
   "source": [
    "Sur la base de la chute rapide de la courbe de rappel, il est possible de définir un compromis rappel/précision avant."
   ]
  },
  {
   "cell_type": "markdown",
   "id": "bc98500d",
   "metadata": {},
   "source": [
    "## Courbe de ROC"
   ]
  },
  {
   "cell_type": "code",
   "execution_count": 81,
   "id": "31b0a4e2",
   "metadata": {},
   "outputs": [
    {
     "data": {
      "image/png": "[encoded data removed]",
      "text/plain": [
       "<Figure size 1008x504 with 1 Axes>"
      ]
     },
     "metadata": {},
     "output_type": "display_data"
    }
   ],
   "source": [
    "from sklearn.metrics import roc_curve\n",
    "\n",
    "false_positive_rate, true_positive_rate, thresholds = roc_curve(y_train, y_scores)\n",
    "\n",
    "def plot_roc_curve(false_positive_rate, true_positive_rate, label=None):\n",
    "    plt.plot(false_positive_rate, true_positive_rate, linewidth=2, label=label)\n",
    "    plt.plot([0, 1], [0, 1], 'r', linewidth=4)\n",
    "    plt.axis([0, 1, 0, 1])\n",
    "    plt.xlabel('False Positive Rate (FPR)', fontsize=16)\n",
    "    plt.ylabel('True Positive Rate (TPR)', fontsize=16)\n",
    "\n",
    "plt.figure(figsize=(14, 7))\n",
    "plot_roc_curve(false_positive_rate, true_positive_rate)\n",
    "plt.show()"
   ]
  },
  {
   "cell_type": "markdown",
   "id": "6782e2e9",
   "metadata": {},
   "source": [
    "Plus la courbe bleue penche vers le coin supérieur gauche (angle droit), mieux un modèle prédit les résultats réels."
   ]
  },
  {
   "cell_type": "markdown",
   "id": "b1c4dd89",
   "metadata": {},
   "source": [
    "## ROC Score"
   ]
  },
  {
   "cell_type": "code",
   "execution_count": 82,
   "id": "858a3551",
   "metadata": {},
   "outputs": [],
   "source": [
    "from sklearn.metrics import roc_auc_score"
   ]
  },
  {
   "cell_type": "code",
   "execution_count": 83,
   "id": "dddb4327",
   "metadata": {},
   "outputs": [],
   "source": [
    "y_scores = lr.predict_proba(X_train)\n",
    "y_scores = y_scores[:, 1]"
   ]
  },
  {
   "cell_type": "code",
   "execution_count": 84,
   "id": "7b1ba0f4",
   "metadata": {},
   "outputs": [
    {
     "name": "stdout",
     "output_type": "stream",
     "text": [
      "ROC-AUC Score: 0.7017445439507781\n"
     ]
    }
   ],
   "source": [
    "auroc = roc_auc_score(y_train, y_scores)\n",
    "print(\"ROC-AUC Score:\", auroc)"
   ]
  },
  {
   "cell_type": "code",
   "execution_count": null,
   "id": "42cb6f1a",
   "metadata": {},
   "outputs": [],
   "source": []
  }
 ],
 "metadata": {
  "kernelspec": {
   "display_name": "Python 3",
   "language": "python",
   "name": "python3"
  },
  "language_info": {
   "codemirror_mode": {
    "name": "ipython",
    "version": 3
   },
   "file_extension": ".py",
   "mimetype": "text/x-python",
   "name": "python",
   "nbconvert_exporter": "python",
   "pygments_lexer": "ipython3",
   "version": "3.8.8"
  }
 },
 "nbformat": 4,
 "nbformat_minor": 5
}
